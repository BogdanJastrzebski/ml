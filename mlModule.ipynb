{
 "cells": [
  {
   "cell_type": "code",
   "execution_count": null,
   "metadata": {},
   "outputs": [],
   "source": [
    "using Distributions, LinearAlgebra;"
   ]
  },
  {
   "cell_type": "code",
   "execution_count": null,
   "metadata": {},
   "outputs": [],
   "source": [
    "function create_minimumSpanningTree(X, norm = (x,v)-> sum((x-v).^2))\n",
    "    n,m = size(X)\n",
    "    A = zeros(Int, n-1, 2)\n",
    "    weights = zeros(n-1)\n",
    "    in_set = falses(n)\n",
    "    \n",
    "    # Inicjalizacja\n",
    "    \n",
    "    ## pierwszy wierzchołek\n",
    "    in_set[1] = true\n",
    "    \n",
    "    ## Macierz dystansów z.B\n",
    "    # [Inf  1    2]\n",
    "    # [1   Inf   2]\n",
    "    # [2   2   Inf]\n",
    "    \n",
    "    dist = repeat([Inf],n,n)\n",
    "    for i in 2:n\n",
    "        for j in 1:(i-1)\n",
    "            d = norm(X[i,:],X[j,:])\n",
    "            dist[i,j] = d\n",
    "            dist[j,i] = d\n",
    "        end\n",
    "    end\n",
    "    \n",
    "    for i in 1:(n-1)\n",
    "        # znaleźć najbliższy\n",
    "        amin = argmin(dist[in_set, .!in_set])\n",
    "        \n",
    "        A[i, :] = [findall(in_set)[amin[1]], findall(.!in_set)[amin[2]]]\n",
    "        \n",
    "        weights[i] = dist[in_set, .!in_set][amin]\n",
    "        \n",
    "        @views in_set[.!in_set][amin[2]] = true \n",
    "    end\n",
    "    return A, weights\n",
    "end"
   ]
  },
  {
   "cell_type": "code",
   "execution_count": null,
   "metadata": {},
   "outputs": [],
   "source": []
  }
 ],
 "metadata": {
  "kernelspec": {
   "display_name": "Julia 1.1.0",
   "language": "julia",
   "name": "julia-1.1"
  },
  "language_info": {
   "file_extension": ".jl",
   "mimetype": "application/julia",
   "name": "julia",
   "version": "1.1.0"
  }
 },
 "nbformat": 4,
 "nbformat_minor": 2
}
